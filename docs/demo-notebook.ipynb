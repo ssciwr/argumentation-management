{
 "cells": [
  {
   "cell_type": "markdown",
   "metadata": {},
   "source": [
    "# Demonstration notebook to run nlpannotator"
   ]
  },
  {
   "cell_type": "code",
   "execution_count": null,
   "metadata": {},
   "outputs": [],
   "source": [
    "# import the module - this will print some warnings from the packages used in treetagger, please ignore\n",
    "import nlpannotator\n",
    "import nlpannotator.main as nm\n",
    "\n",
    "# import json for dict writing\n",
    "import json\n",
    "\n",
    "# import os to get directories\n",
    "import os"
   ]
  },
  {
   "cell_type": "code",
   "execution_count": null,
   "metadata": {},
   "outputs": [],
   "source": [
    "# provide the path for the input dict\n",
    "path_json = \"/home/jovyan/shared/\"\n",
    "path_json = \"/home/inga/projects/corpus-workbench/argumentation-management/nlpannotator/test/data/input.json\"\n",
    "# provide the path for the input text\n",
    "path_txt = \"/home/inga/projects/corpus-workbench/argumentation-management/nlpannotator/test/data/\"\n",
    "# read the default dictionary with the input options\n",
    "mydict = nlpannotator.base.PrepareRun.load_input_dict(path_json)\n",
    "# overwrite the options that you need changed\n",
    "# input file name\n",
    "mydict[\"input\"] = \"example_en.txt\"\n",
    "# tool to use for annotation - only required for \"manual\" option\n",
    "mydict[\"tool\"] = \"spacy, spacy, spacy, spacy\"\n",
    "# corpus name - for the output file\n",
    "mydict[\"corpus_name\"] = \"test\"\n",
    "# language of the text\n",
    "mydict[\"language\"] = \"en\"\n",
    "# processing option - manual, fast or accurate\n",
    "mydict[\"processing_option\"] = \"manual\"\n",
    "# type of processing\n",
    "mydict[\"processing_type\"] = \"sentencize, tokenize, pos, lemma\"\n",
    "# format of the generated output\n",
    "mydict[\"output_format\"] = \"xml\"\n",
    "# encode generated annotated text into cwb - either \"yes\" or \"no\"\n",
    "mydict[\"encoding\"] = \"yes\"\n",
    "# the advanced options: directories for output and corpus/registry for cwb\n",
    "mydict[\"advanced_options\"][\n",
    "    \"output_dir\"\n",
    "] = \"/home/inga/projects/corpus-workbench/argumentation-management/docs/\"\n",
    "mydict[\"advanced_options\"][\n",
    "    \"corpus_dir\"\n",
    "] = \"/home/inga/projects/corpus-workbench/argumentation-management/nlpannotator/test/corpora/\"\n",
    "mydict[\"advanced_options\"][\n",
    "    \"registry_dir\"\n",
    "] = \"/home/inga/projects/corpus-workbench/argumentation-management//nlpannotator/test/registry/\"\n",
    "# now write the adapted input dict and save for later reference\n",
    "# adapt the name of the dictionary so you know which one it is\n",
    "input_dictname = \"myinput.json\"\n",
    "with open(input_dictname, \"w\") as outfile:\n",
    "    json.dump(mydict, outfile, indent=4)\n",
    "path_json = os.getcwd() + \"/\" + input_dictname\n",
    "path_txt = path_txt + \"/\" + mydict[\"input\"]"
   ]
  },
  {
   "cell_type": "code",
   "execution_count": null,
   "metadata": {},
   "outputs": [],
   "source": [
    "# now you can run the nlpannotator\n",
    "nm.run(path_json, path_txt)"
   ]
  },
  {
   "cell_type": "markdown",
   "metadata": {},
   "source": []
  }
 ],
 "metadata": {
  "kernelspec": {
   "display_name": "Python 3.9.7 ('arg')",
   "language": "python",
   "name": "python3"
  },
  "language_info": {
   "codemirror_mode": {
    "name": "ipython",
    "version": 3
   },
   "file_extension": ".py",
   "mimetype": "text/x-python",
   "name": "python",
   "nbconvert_exporter": "python",
   "pygments_lexer": "ipython3",
   "version": "3.9.7"
  },
  "vscode": {
   "interpreter": {
    "hash": "f780981b168fa18ba6e0a1a6495d97f80f01fc3bd26211c5d21403ec246f1ca7"
   }
  }
 },
 "nbformat": 4,
 "nbformat_minor": 2
}
