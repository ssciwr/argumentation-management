{
 "cells": [
  {
   "cell_type": "markdown",
   "metadata": {},
   "source": [
    "# Example Notebook for annotator package\n",
    "## Scientific Software Center, I. S. Ulusoy, C. Delavier, Heidelberg University\n",
    "*January 2022*\n",
    "\n",
    "In the following the basic functionalities of the package are introduced. We will load basic text in English and German and annotate it using the available features."
   ]
  },
  {
   "cell_type": "markdown",
   "metadata": {},
   "source": [
    "### Import the modules of the annotator package"
   ]
  },
  {
   "cell_type": "code",
   "execution_count": null,
   "metadata": {},
   "outputs": [],
   "source": [
    "import annotator.base as be\n",
    "import annotator.pipe as pe\n",
    "import annotator.mspacy as msp\n",
    "import annotator.mstanza as mst"
   ]
  },
  {
   "cell_type": "markdown",
   "metadata": {},
   "source": [
    "# General input"
   ]
  },
  {
   "cell_type": "markdown",
   "metadata": {},
   "source": [
    "The input is passed to the package using a dictionary (json-file). Later, this will be hidden in the user interface. For now, you will load the default dictionary which has all options pre-set to default values, and then replace the options that you specify for your desired processing.\n",
    "\n",
    "### Read the default dictionary - do not change"
   ]
  },
  {
   "cell_type": "code",
   "execution_count": null,
   "metadata": {},
   "outputs": [],
   "source": [
    "# read in input.json\n",
    "default_dict = be.prepare_run.load_input_dict(\"input\")"
   ]
  },
  {
   "cell_type": "markdown",
   "metadata": {},
   "source": [
    "The main input dictionary contains these important parameters:\n",
    "```\n",
    "    \"input\": \"./test/test_files/example_en.txt\",\n",
    "    \"tool\": \"spacy\",\n",
    "    \"corpus_name\": \"test\",\n",
    "    \"language\": \"en\",\n",
    "    \"document_type\": \"text\",\n",
    "    \"processing_option\": \"fast\",\n",
    "    \"processing_type\": \"tokenize\"\n",
    "```\n",
    "You can print these using:"
   ]
  },
  {
   "cell_type": "code",
   "execution_count": null,
   "metadata": {},
   "outputs": [],
   "source": [
    "print(default_dict[\"input\"])"
   ]
  },
  {
   "cell_type": "code",
   "execution_count": null,
   "metadata": {},
   "outputs": [],
   "source": [
    "# first make a copy of the dictionary for your run\n",
    "mydict = default_dict"
   ]
  },
  {
   "cell_type": "markdown",
   "metadata": {},
   "source": [
    "These tell the programm that the data we want to annotate is stored in `example_en.txt` with path to the file `./test/test_files/` and that we want to use the tool `spacy` to annotate the data."
   ]
  },
  {
   "cell_type": "markdown",
   "metadata": {},
   "source": [
    "## Adapt the keys for your run\n",
    "You can and *should* change the following options:  \n",
    "```\n",
    "input  \n",
    "language\n",
    "document_type\n",
    "corpus_name\n",
    "processing_option\n",
    "```\n",
    "You do so by changing the content below according to your needs:"
   ]
  },
  {
   "cell_type": "code",
   "execution_count": null,
   "metadata": {},
   "outputs": [],
   "source": [
    "# Tell where to find the input file\n",
    "mydict[\"input\"] = \"./test/test_files/example_de.txt\""
   ]
  },
  {
   "cell_type": "code",
   "execution_count": null,
   "metadata": {},
   "outputs": [],
   "source": [
    "# Tell what to name your corpus\n",
    "mydict[\"corpus_name\"] = \"test_de\""
   ]
  },
  {
   "cell_type": "code",
   "execution_count": null,
   "metadata": {},
   "outputs": [],
   "source": [
    "# Tell the language of the document - currently \"en\" and \"de\" are available\n",
    "mydict[\"language\"] = \"de\""
   ]
  },
  {
   "cell_type": "code",
   "execution_count": null,
   "metadata": {},
   "outputs": [],
   "source": [
    "# Tell which document type: This will aid in the model selection for some of the tools\n",
    "# (normal text: \"text\", historic text: \"historic\", scientific text: \"scientific\" )\n",
    "mydict[\"document_type\"] = \"text\""
   ]
  },
  {
   "cell_type": "code",
   "execution_count": null,
   "metadata": {},
   "outputs": [],
   "source": [
    "# Tell which option to choose: \"fast\" or \"accurate\" or \"manual\"\n",
    "# this will set the toolchain for the text processing\n",
    "# currently, fast = spacy for all types of processing\n",
    "# accurate = stanza for all types of processing\n",
    "# this will be further adapted\n",
    "# please don\"t use manual for now, it doesn't add anything new\n",
    "mydict[\"processing_option\"] = \"fast\""
   ]
  },
  {
   "cell_type": "code",
   "execution_count": null,
   "metadata": {},
   "outputs": [],
   "source": [
    "# Tell what you want to do with the text: Options are\n",
    "# tokenize - separate into tokens\n",
    "# pos - part-of-speech tagging\n",
    "# lemma - lemma\n",
    "# mydict[\"processing_type\"]: \"tokenize, pos, lemma\"\n",
    "# currently, tokenize is mandatory, the option for pretokenized text is\n",
    "# not enabled in this version"
   ]
  },
  {
   "cell_type": "markdown",
   "metadata": {},
   "source": [
    "## Settings for JupyterHub - do not change"
   ]
  },
  {
   "cell_type": "code",
   "execution_count": null,
   "metadata": {},
   "outputs": [],
   "source": [
    "mydict[\"advanced_options\"][\"output_dir\"] = \"./test/out/\"\n",
    "mydict[\"advanced_options\"][\"corpus_dir\"] = \"./shared/corpora/\"\n",
    "mydict[\"advanced_options\"][\"output_dir\"] = \"./shared/registry/\"\n",
    "mydict[\"stanza_dict\"][\"dir\"] = \"./test/models/\""
   ]
  },
  {
   "cell_type": "markdown",
   "metadata": {},
   "source": [
    "# Perform the annotation - do not change\n",
    "The below will be hidden behind the user interface, for now you need to execute the cells to perform the annotation. Please do not change."
   ]
  },
  {
   "cell_type": "code",
   "execution_count": null,
   "metadata": {},
   "outputs": [],
   "source": [
    "# input dictionary is set above, now we need to validate\n",
    "be.prepare_run.validate_input_dict(mydict)"
   ]
  },
  {
   "cell_type": "code",
   "execution_count": null,
   "metadata": {},
   "outputs": [],
   "source": [
    "# read in the input text to be processed as raw text\n",
    "data = be.prepare_run.get_text(mydict[\"input\"])"
   ]
  },
  {
   "cell_type": "code",
   "execution_count": null,
   "metadata": {},
   "outputs": [],
   "source": [
    "# set the tool dictionaries and options\n",
    "obj = pe.SetConfig(mydict)"
   ]
  },
  {
   "cell_type": "code",
   "execution_count": null,
   "metadata": {},
   "outputs": [],
   "source": [
    "# load pipeline\n",
    "# here we select by hand currently\n",
    "if \"spacy\" in obj.tool:\n",
    "    spacy_dict = obj.mydict[\"spacy_dict\"]\n",
    "    pipe = msp.spacy_pipe(spacy_dict)\n",
    "    annotated = pipe.apply_to(data)\n",
    "    annotated.pass_results(\"STR\", mydict, ret=False)\n",
    "elif \"stanza\" in obj.tool:\n",
    "    stanza_dict = obj.mydict[\"stanza_dict\"]\n",
    "    stanza_pipe = mst.MyStanza(stanza_dict)\n",
    "    annotated = stanza_pipe.apply_to(data)\n",
    "    annotated.pass_results(\"STR\", mydict, ret=False)\n",
    "else:\n",
    "    print(\"Did not find tool to use!\")"
   ]
  },
  {
   "cell_type": "markdown",
   "metadata": {},
   "source": [
    "# Access the newly annotated corpus in cwb via the command-line interface \n",
    "Open a terminal and type \"cqp -e\". All further processing and options are then done via the cqp prompt."
   ]
  },
  {
   "cell_type": "code",
   "execution_count": null,
   "metadata": {},
   "outputs": [],
   "source": [
    "# Set the registry dir in the cqp terminal"
   ]
  },
  {
   "cell_type": "code",
   "execution_count": null,
   "metadata": {},
   "outputs": [],
   "source": [
    "# Load the corpus"
   ]
  },
  {
   "cell_type": "code",
   "execution_count": null,
   "metadata": {},
   "outputs": [],
   "source": [
    "# search for POS"
   ]
  },
  {
   "cell_type": "code",
   "execution_count": null,
   "metadata": {},
   "outputs": [],
   "source": [
    "# search for lemma"
   ]
  },
  {
   "cell_type": "code",
   "execution_count": null,
   "metadata": {},
   "outputs": [],
   "source": [
    "# ???"
   ]
  },
  {
   "cell_type": "code",
   "execution_count": null,
   "metadata": {},
   "outputs": [],
   "source": []
  }
 ],
 "metadata": {
  "interpreter": {
   "hash": "248d8c9983699a243ff8e6a68a4f537cc73e09b2b8d6acc84fd600ae9279441d"
  },
  "kernelspec": {
   "display_name": "Python 3.9.7 64-bit ('arg': conda)",
   "language": "python",
   "name": "python397jvsc74a57bd0f780981b168fa18ba6e0a1a6495d97f80f01fc3bd26211c5d21403ec246f1ca7"
  },
  "language_info": {
   "codemirror_mode": {
    "name": "ipython",
    "version": 3
   },
   "file_extension": ".py",
   "mimetype": "text/x-python",
   "name": "python",
   "nbconvert_exporter": "python",
   "pygments_lexer": "ipython3",
   "version": "3.9.7"
  }
 },
 "nbformat": 4,
 "nbformat_minor": 4
}
