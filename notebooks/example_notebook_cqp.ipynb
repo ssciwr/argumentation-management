{
 "cells": [
  {
   "cell_type": "markdown",
   "id": "brave-plastic",
   "metadata": {},
   "source": [
    "## Access to the different toolboxes is possible via system commands\n",
    "\n",
    "Either open a terminal and run through there, or use a jupyter notebook."
   ]
  },
  {
   "cell_type": "code",
   "execution_count": null,
   "id": "clinical-survey",
   "metadata": {},
   "outputs": [],
   "source": [
    "import os"
   ]
  },
  {
   "cell_type": "code",
   "execution_count": null,
   "id": "executive-movie",
   "metadata": {},
   "outputs": [],
   "source": [
    "!ls"
   ]
  },
  {
   "cell_type": "markdown",
   "id": "pleased-archives",
   "metadata": {},
   "source": [
    "## Access cqp via python interface"
   ]
  },
  {
   "cell_type": "code",
   "execution_count": null,
   "id": "indie-island",
   "metadata": {},
   "outputs": [],
   "source": [
    "import ccc"
   ]
  },
  {
   "cell_type": "code",
   "execution_count": null,
   "id": "surprised-approach",
   "metadata": {},
   "outputs": [],
   "source": [
    "from ccc import Corpora\n",
    "\n",
    "corpora = Corpora(\n",
    "    cqp_bin=\"/usr/local/cwb-3.4.22/bin/cqp\",\n",
    "    registry_path=\"/home/jovyan/DemoCorpus-German/registry\",\n",
    ")\n",
    "print(corpora)\n",
    "corpora.show()\n",
    "# needed to provide absolute paths in registry for this to work"
   ]
  },
  {
   "cell_type": "code",
   "execution_count": null,
   "id": "appointed-gather",
   "metadata": {},
   "outputs": [],
   "source": [
    "corpus = corpora.activate(corpus_name=\"GERMAN-LAW\")"
   ]
  },
  {
   "cell_type": "code",
   "execution_count": null,
   "id": "possible-surfing",
   "metadata": {},
   "outputs": [],
   "source": [
    "corpus.attributes_available"
   ]
  },
  {
   "cell_type": "code",
   "execution_count": null,
   "id": "aggregate-enforcement",
   "metadata": {},
   "outputs": [],
   "source": [
    "query = r'\"\\[\" ([word=\"[A-Z0-9]+.?\"%d]+ \"/\"?)+ \"\\]\"'\n",
    "dump = corpus.query(query)"
   ]
  },
  {
   "cell_type": "code",
   "execution_count": null,
   "id": "conditional-billy",
   "metadata": {},
   "outputs": [],
   "source": [
    "dump.df"
   ]
  },
  {
   "cell_type": "code",
   "execution_count": null,
   "id": "pointed-concept",
   "metadata": {},
   "outputs": [],
   "source": [
    "dump.concordance()"
   ]
  },
  {
   "cell_type": "code",
   "execution_count": null,
   "id": "explicit-blind",
   "metadata": {},
   "outputs": [],
   "source": [
    "dump = corpus.query('[lemma=\"Gesetz\"]', context=10, context_break=\"s\")"
   ]
  },
  {
   "cell_type": "code",
   "execution_count": null,
   "id": "absent-people",
   "metadata": {},
   "outputs": [],
   "source": [
    "dump.collocates()"
   ]
  },
  {
   "cell_type": "markdown",
   "id": "attended-representation",
   "metadata": {},
   "source": [
    "## MGiza and Fastalign are installed as well and can be accessed via the terminal\n",
    "\n",
    "Either open a terminal and run through there, or use the jupyter notebook."
   ]
  },
  {
   "cell_type": "code",
   "execution_count": null,
   "id": "accredited-modern",
   "metadata": {},
   "outputs": [],
   "source": [
    "# Fast-align\n",
    "!fast_align/build/fast_align -i text.fr-en -d -o -v > forward.align"
   ]
  },
  {
   "cell_type": "code",
   "execution_count": null,
   "id": "fatty-screen",
   "metadata": {},
   "outputs": [],
   "source": []
  }
 ],
 "metadata": {
  "kernelspec": {
   "display_name": "Python 3",
   "language": "python",
   "name": "python3"
  },
  "language_info": {
   "codemirror_mode": {
    "name": "ipython",
    "version": 3
   },
   "file_extension": ".py",
   "mimetype": "text/x-python",
   "name": "python",
   "nbconvert_exporter": "python",
   "pygments_lexer": "ipython3",
   "version": "3.8.10"
  }
 },
 "nbformat": 4,
 "nbformat_minor": 5
}
