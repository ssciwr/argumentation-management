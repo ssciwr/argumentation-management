{
 "cells": [
  {
   "cell_type": "code",
   "execution_count": null,
   "id": "57085a00",
   "metadata": {},
   "outputs": [],
   "source": [
    "from somajo import SoMaJo"
   ]
  },
  {
   "cell_type": "markdown",
   "id": "82a6dfb9",
   "metadata": {},
   "source": [
    "# Sentences and tokens"
   ]
  },
  {
   "cell_type": "code",
   "execution_count": null,
   "id": "69395605",
   "metadata": {},
   "outputs": [],
   "source": [
    "tokenizer = SoMaJo(\"de_CMC\", split_camel_case=True)\n",
    "\n",
    "# note that paragraphs are allowed to contain newlines\n",
    "paragraphs = [\n",
    "    \"der beste Betreuer?\\n-- ProfSmith! : )\",\n",
    "    \"Was machst du morgen Abend?! Lust auf Film?;-)\",\n",
    "]\n",
    "\n",
    "sentences = tokenizer.tokenize_text(paragraphs)\n",
    "for sentence in sentences:\n",
    "    for token in sentence:\n",
    "        print(\"{}\\t{}\\t{}\".format(token.text, token.token_class, token.extra_info))\n",
    "    print()"
   ]
  },
  {
   "cell_type": "markdown",
   "id": "cf9d785b",
   "metadata": {},
   "source": [
    "With xml tags:"
   ]
  },
  {
   "cell_type": "code",
   "execution_count": null,
   "id": "0595be7d",
   "metadata": {},
   "outputs": [],
   "source": [
    "tokenizer = SoMaJo(\"de_CMC\", xml_sentences=\"s\")\n",
    "sentences = tokenizer.tokenize_text(paragraphs)\n",
    "for sentence in sentences:\n",
    "    for token in sentence:\n",
    "        print(token.text)"
   ]
  },
  {
   "cell_type": "code",
   "execution_count": null,
   "id": "c1377484",
   "metadata": {},
   "outputs": [],
   "source": []
  }
 ],
 "metadata": {
  "kernelspec": {
   "display_name": "Python 3",
   "language": "python",
   "name": "python3"
  },
  "language_info": {
   "codemirror_mode": {
    "name": "ipython",
    "version": 3
   },
   "file_extension": ".py",
   "mimetype": "text/x-python",
   "name": "python",
   "nbconvert_exporter": "python",
   "pygments_lexer": "ipython3",
   "version": "3.8.5"
  }
 },
 "nbformat": 4,
 "nbformat_minor": 5
}
