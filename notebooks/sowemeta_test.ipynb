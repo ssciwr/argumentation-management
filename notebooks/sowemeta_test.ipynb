{
 "cells": [
  {
   "cell_type": "code",
   "execution_count": null,
   "id": "0e8724d7",
   "metadata": {},
   "outputs": [],
   "source": [
    "import somajo\n",
    "import someweta\n",
    "from someweta import ASPTagger"
   ]
  },
  {
   "cell_type": "code",
   "execution_count": null,
   "id": "b4b63913",
   "metadata": {},
   "outputs": [],
   "source": [
    "model = \"/home/inga/projects/corpus-workbench/someweta/german_web_social_media_2020-05-28.model\"\n",
    "sentences = [\n",
    "    [\"Ein\", \"Satz\", \"ist\", \"eine\", \"Liste\", \"von\", \"Tokens\", \".\"],\n",
    "    [\"Zeitfliegen\", \"mögen\", \"einen\", \"Pfeil\", \".\"],\n",
    "]"
   ]
  },
  {
   "cell_type": "markdown",
   "id": "2a428011",
   "metadata": {},
   "source": [
    "Loading the model takes a while."
   ]
  },
  {
   "cell_type": "code",
   "execution_count": null,
   "id": "5ab2abeb",
   "metadata": {},
   "outputs": [],
   "source": [
    "asptagger = ASPTagger()\n",
    "asptagger.load(model)"
   ]
  },
  {
   "cell_type": "markdown",
   "id": "c1891e2c",
   "metadata": {},
   "source": [
    "# POS-tagging\n",
    "SoMeWeTa is a POS-tagger."
   ]
  },
  {
   "cell_type": "code",
   "execution_count": null,
   "id": "8ad784d1",
   "metadata": {},
   "outputs": [],
   "source": [
    "for sentence in sentences:\n",
    "    tagged_sentence = asptagger.tag_sentence(sentence)\n",
    "    print(\"\\n\".join([\"\\t\".join(t) for t in tagged_sentence]), \"\\n\", sep=\"\")"
   ]
  },
  {
   "cell_type": "markdown",
   "id": "e5bd8b76",
   "metadata": {},
   "source": [
    "# Use together with somajo\n",
    "\n",
    "SoMeWeTa requires that the input texts are tokenized and split into sentences. Tokenization and sentence splitting have to be consistent with the corpora the tagger model has been trained on."
   ]
  },
  {
   "cell_type": "code",
   "execution_count": null,
   "id": "8475d97f",
   "metadata": {},
   "outputs": [],
   "source": [
    "model = (\n",
    "    \"/home/inga/projects/corpus-workbench/someweta/english_newspaper_2017-09-15.model\"\n",
    ")"
   ]
  },
  {
   "cell_type": "code",
   "execution_count": null,
   "id": "1f7a2037",
   "metadata": {},
   "outputs": [],
   "source": [
    "name = \"../data/Original/iued_test_original.txt\"\n",
    "with open(name, \"r\") as myfile:\n",
    "    data = myfile.read().replace(\"\\n\", \"\")\n",
    "\n",
    "asptagger = someweta.ASPTagger()\n",
    "asptagger.load(model)"
   ]
  },
  {
   "cell_type": "code",
   "execution_count": null,
   "id": "c0df4604",
   "metadata": {},
   "outputs": [],
   "source": [
    "# See https://github.com/tsproisl/SoMaJo#using-the-module\n",
    "tokenizer = somajo.SoMaJo(\"de_CMC\", split_camel_case=False)\n",
    "sentences = tokenizer.tokenize_text_file(name, paragraph_separator=\"empty_lines\")\n",
    "for sentence in sentences:\n",
    "    tokens = [token.text for token in sentence]\n",
    "    tagged_sentence = asptagger.tag_sentence(tokens)\n",
    "    print(\"\\n\".join(\"\\t\".join(t) for t in tagged_sentence), \"\\n\", sep=\"\")"
   ]
  },
  {
   "cell_type": "code",
   "execution_count": null,
   "id": "93155fac",
   "metadata": {},
   "outputs": [],
   "source": []
  }
 ],
 "metadata": {
  "kernelspec": {
   "display_name": "Python 3",
   "language": "python",
   "name": "python3"
  },
  "language_info": {
   "codemirror_mode": {
    "name": "ipython",
    "version": 3
   },
   "file_extension": ".py",
   "mimetype": "text/x-python",
   "name": "python",
   "nbconvert_exporter": "python",
   "pygments_lexer": "ipython3",
   "version": "3.8.5"
  }
 },
 "nbformat": 4,
 "nbformat_minor": 5
}
