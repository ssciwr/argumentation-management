{
 "cells": [
  {
   "cell_type": "code",
   "execution_count": null,
   "id": "734bffe9",
   "metadata": {},
   "outputs": [],
   "source": [
    "import benepar\n",
    "import spacy"
   ]
  },
  {
   "cell_type": "code",
   "execution_count": null,
   "id": "cbe6d252",
   "metadata": {},
   "outputs": [],
   "source": [
    "benepar.download(\"benepar_en3\")"
   ]
  },
  {
   "cell_type": "markdown",
   "id": "abd225e2",
   "metadata": {},
   "source": [
    "# POS\n",
    "Integration through spaCy is recommended."
   ]
  },
  {
   "cell_type": "code",
   "execution_count": null,
   "id": "11572014",
   "metadata": {},
   "outputs": [],
   "source": [
    "nlp = spacy.load(\"en_core_web_sm\")\n",
    "if spacy.__version__.startswith(\"2\"):\n",
    "    nlp.add_pipe(benepar.BeneparComponent(\"benepar_en3\"))\n",
    "else:\n",
    "    nlp.add_pipe(\"benepar\", config={\"model\": \"benepar_en3\"})"
   ]
  },
  {
   "cell_type": "code",
   "execution_count": null,
   "id": "33f8d9d4",
   "metadata": {},
   "outputs": [],
   "source": [
    "doc = nlp(\"The time for action is now. It's never too late to do something.\")\n",
    "sent = list(doc.sents)[0]\n",
    "print(sent._.parse_string)\n",
    "sent._.labels\n",
    "list(sent._.children)[0]"
   ]
  },
  {
   "cell_type": "markdown",
   "id": "45ce4d65",
   "metadata": {},
   "source": [
    "Can also be used through NLTK **but is not recommended**."
   ]
  },
  {
   "cell_type": "code",
   "execution_count": null,
   "id": "76cfa53d",
   "metadata": {},
   "outputs": [],
   "source": [
    "name = r\"../data/Original/iued_test_original.txt\"\n",
    "# name = \"../data/Original/iued_test_original.vrt\"\n",
    "with open(name, \"r\") as myfile:\n",
    "    data = myfile.read().replace(r\"\\n\", \"\")"
   ]
  },
  {
   "cell_type": "code",
   "execution_count": null,
   "id": "2250e3f2",
   "metadata": {},
   "outputs": [],
   "source": [
    "doc = nlp(data)\n",
    "sent = list(doc.sents)[5]\n",
    "print(sent._.parse_string)\n",
    "sent._.labels\n",
    "list(sent._.children)[0]"
   ]
  },
  {
   "cell_type": "code",
   "execution_count": null,
   "id": "c45bc93d",
   "metadata": {},
   "outputs": [],
   "source": [
    "print(sent._.parse_string)"
   ]
  },
  {
   "cell_type": "code",
   "execution_count": null,
   "id": "59f2b9c6",
   "metadata": {},
   "outputs": [],
   "source": [
    "token = sent[3]\n",
    "print(token)"
   ]
  },
  {
   "cell_type": "code",
   "execution_count": null,
   "id": "2c968952",
   "metadata": {},
   "outputs": [],
   "source": [
    "print(token._.labels)\n",
    "print(token._.parse_string)\n",
    "print(token._.parent)"
   ]
  },
  {
   "cell_type": "code",
   "execution_count": null,
   "id": "6fb51938",
   "metadata": {},
   "outputs": [],
   "source": []
  }
 ],
 "metadata": {
  "kernelspec": {
   "display_name": "Python 3",
   "language": "python",
   "name": "python3"
  },
  "language_info": {
   "codemirror_mode": {
    "name": "ipython",
    "version": 3
   },
   "file_extension": ".py",
   "mimetype": "text/x-python",
   "name": "python",
   "nbconvert_exporter": "python",
   "pygments_lexer": "ipython3",
   "version": "3.8.5"
  }
 },
 "nbformat": 4,
 "nbformat_minor": 5
}
