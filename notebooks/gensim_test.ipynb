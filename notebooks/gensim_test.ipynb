{
 "cells": [
  {
   "cell_type": "code",
   "execution_count": null,
   "id": "ec006f4a",
   "metadata": {},
   "outputs": [],
   "source": [
    "import pprint\n",
    "import spacy\n",
    "from collections import defaultdict"
   ]
  },
  {
   "cell_type": "markdown",
   "id": "6b626c8f",
   "metadata": {},
   "source": [
    "Load the corpus that will typically contain several documents. Here without streaming for the example, but typically this needs to be streamed if the corpus is larger than xx."
   ]
  },
  {
   "cell_type": "code",
   "execution_count": null,
   "id": "2bb700bd",
   "metadata": {},
   "outputs": [],
   "source": [
    "name = r\"../data/Original/iued_test_original.txt\"\n",
    "with open(name, \"r\") as myfile:\n",
    "    data = myfile.read().replace(r\"\\n\", \"\")"
   ]
  },
  {
   "cell_type": "markdown",
   "id": "1817977a",
   "metadata": {},
   "source": [
    "and then define a shorter paragraph from that \"corpus\"."
   ]
  },
  {
   "cell_type": "code",
   "execution_count": null,
   "id": "e02c695d",
   "metadata": {},
   "outputs": [],
   "source": [
    "# example corpus - each string represents one document\n",
    "documents = [\n",
    "    \"Human machine interface for lab abc computer applications\",\n",
    "    \"A survey of user opinion of computer system response time\",\n",
    "    \"The EPS user interface management system\",\n",
    "    \"System and human system engineering testing of EPS\",\n",
    "    \"Relation of user perceived response time to error measurement\",\n",
    "    \"The generation of random binary unordered trees\",\n",
    "    \"The intersection graph of paths in trees\",\n",
    "    \"Graph minors IV Widths of trees and well quasi ordering\",\n",
    "    \"Graph minors A survey\",\n",
    "]"
   ]
  },
  {
   "cell_type": "code",
   "execution_count": null,
   "id": "2d64764a",
   "metadata": {},
   "outputs": [],
   "source": [
    "# define the shorter paragraph - a single document\n",
    "document = \"Human machine interface for lab abc computer applications\""
   ]
  },
  {
   "cell_type": "markdown",
   "id": "9fc3767c",
   "metadata": {},
   "source": [
    "Now this needs to be preprocessed, so split into sentences and tokens. Also very common words are removed (such as \"the\")."
   ]
  },
  {
   "cell_type": "code",
   "execution_count": null,
   "id": "425646e0",
   "metadata": {},
   "outputs": [],
   "source": [
    "# Create a set of frequent words\n",
    "stoplist = set(\"for a of the and to in\".split(\" \"))\n",
    "# Lowercase each document, split it by white space and filter out stopwords\n",
    "texts = [\n",
    "    [word for word in document.lower().split() if word not in stoplist]\n",
    "    for document in documents\n",
    "]\n",
    "\n",
    "# Count word frequencies\n",
    "frequency = defaultdict(int)\n",
    "for text in texts:\n",
    "    for token in text:\n",
    "        frequency[token] += 1\n",
    "\n",
    "# Only keep words that appear more than once\n",
    "processed_corpus = [[token for token in text if frequency[token] > 1] for text in texts]\n",
    "pprint.pprint(processed_corpus)"
   ]
  },
  {
   "cell_type": "code",
   "execution_count": null,
   "id": "43ff54ea",
   "metadata": {},
   "outputs": [],
   "source": [
    "# dictionary = corpora.Dictionary(processed_corpus)\n",
    "# print(dictionary)"
   ]
  },
  {
   "cell_type": "code",
   "execution_count": null,
   "id": "53450c20",
   "metadata": {},
   "outputs": [],
   "source": []
  }
 ],
 "metadata": {
  "kernelspec": {
   "display_name": "Python 3",
   "language": "python",
   "name": "python3"
  },
  "language_info": {
   "codemirror_mode": {
    "name": "ipython",
    "version": 3
   },
   "file_extension": ".py",
   "mimetype": "text/x-python",
   "name": "python",
   "nbconvert_exporter": "python",
   "pygments_lexer": "ipython3",
   "version": "3.8.5"
  }
 },
 "nbformat": 4,
 "nbformat_minor": 5
}
