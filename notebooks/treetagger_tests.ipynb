{
 "cells": [
  {
   "cell_type": "code",
   "execution_count": null,
   "id": "899cbdd5",
   "metadata": {},
   "outputs": [],
   "source": [
    "import treetaggerwrapper\n",
    "import pprint\n",
    "\n",
    "# or use the alternative module\n",
    "from treetagger import TreeTagger\n",
    "from treetagger import TreeTaggerChunker"
   ]
  },
  {
   "cell_type": "markdown",
   "id": "235100a6",
   "metadata": {},
   "source": [
    "get the test data"
   ]
  },
  {
   "cell_type": "code",
   "execution_count": null,
   "id": "f0a057c0",
   "metadata": {},
   "outputs": [],
   "source": [
    "name = \"../data/Original/iued_test_original.txt\"\n",
    "# name = \"../data/Original/iued_test_original.vrt\"\n",
    "with open(name, \"r\") as myfile:\n",
    "    data = myfile.read().replace(\"\\n\", \"\")"
   ]
  },
  {
   "cell_type": "markdown",
   "id": "dcafe95c",
   "metadata": {},
   "source": [
    "# Part-of-speech and lemma\n",
    "\n",
    "## Official wrapper\n",
    "Can process multiple threads via polling. Automatically chunks text into pieces and keeps pipeline to TreeTagger alive to avoid IO operations. Chunking (tokenizing) + tagging support only for en, es, fr, de. All other languages only tagging. We probably do not need the chunking as this is handled by decode/encode from cwb (`batch_size`). You can also receive probabilities for the tags in the output."
   ]
  },
  {
   "cell_type": "code",
   "execution_count": null,
   "id": "317e104d",
   "metadata": {},
   "outputs": [],
   "source": [
    "teststring = \"Apple is looking at buying U.K. startup for $1 billion\"\n",
    "tagger = treetaggerwrapper.TreeTagger(TAGLANG=\"en\", TAGDIR=\"/home/christian/treetagger\")"
   ]
  },
  {
   "cell_type": "code",
   "execution_count": null,
   "id": "26d8175b",
   "metadata": {},
   "outputs": [],
   "source": [
    "tags = tagger.tag_text(teststring)\n",
    "pprint.pprint(tags)"
   ]
  },
  {
   "cell_type": "code",
   "execution_count": null,
   "id": "71a04efb",
   "metadata": {},
   "outputs": [],
   "source": [
    "tags2 = treetaggerwrapper.make_tags(tags)\n",
    "pprint.pprint(tags2)"
   ]
  },
  {
   "cell_type": "code",
   "execution_count": null,
   "id": "acc05733",
   "metadata": {},
   "outputs": [],
   "source": [
    "tags = tagger.tag_text(data)\n",
    "pprint.pprint(tags)"
   ]
  },
  {
   "cell_type": "code",
   "execution_count": null,
   "id": "87911478",
   "metadata": {},
   "outputs": [],
   "source": [
    "# this doesn't work for me, gets stuck forever\n",
    "tagger = treetaggerwrapper.TreeTagger(\n",
    "    TAGLANG=\"en\",\n",
    "    TAGDIR=\"/home/christian/treetagger\",\n",
    "    TAGOPT=\"-prob -threshold 0.9\",\n",
    ")\n",
    "tags = tagger.tag_text(teststring)\n",
    "pprint.pprint(tags)"
   ]
  },
  {
   "cell_type": "code",
   "execution_count": null,
   "id": "4591289c",
   "metadata": {},
   "outputs": [],
   "source": [
    "tags2 = treetaggerwrapper.make_tags(tags, allow_extra=True)\n",
    "pprint.pprint(tags2)"
   ]
  },
  {
   "cell_type": "markdown",
   "id": "b256562f",
   "metadata": {},
   "source": [
    "## Latest wrapper\n",
    "Does not support in-code chunking, but is more user-friendly and up-to-date. Is also referred to on the official wrapper's doc page. "
   ]
  },
  {
   "cell_type": "code",
   "execution_count": null,
   "id": "b5807e00",
   "metadata": {},
   "outputs": [],
   "source": [
    "tt = TreeTagger(\n",
    "    path_to_treetagger=\"/home/inga/projects/corpus-workbench/treetagger/\",\n",
    "    language=\"english\",\n",
    ")\n",
    "tt.get_installed_lang()"
   ]
  },
  {
   "cell_type": "code",
   "execution_count": null,
   "id": "ffdd8183",
   "metadata": {},
   "outputs": [],
   "source": [
    "tags = tt.tag(teststring)\n",
    "print(tags)"
   ]
  },
  {
   "cell_type": "markdown",
   "id": "ea699184",
   "metadata": {},
   "source": [
    "Chunking via repeated calls of TreeTagger: For this, you do not only need the language files but also the chunker files."
   ]
  },
  {
   "cell_type": "code",
   "execution_count": null,
   "id": "c65bb903",
   "metadata": {},
   "outputs": [],
   "source": [
    "ttc = TreeTaggerChunker(\n",
    "    path_to_treetagger=\"/home/inga/projects/corpus-workbench/treetagger/\",\n",
    "    language=\"english\",\n",
    ")\n",
    "ttc.parse(teststring)"
   ]
  },
  {
   "cell_type": "code",
   "execution_count": null,
   "id": "4046c1ca",
   "metadata": {},
   "outputs": [],
   "source": [
    "tags = tt.tag(data)\n",
    "print(tags)"
   ]
  },
  {
   "cell_type": "markdown",
   "id": "d8bcd4cf",
   "metadata": {},
   "source": [
    "## Personally, I like the second (newer) interface much better, output is easier to work with, does not seem so clunky/outdated."
   ]
  },
  {
   "cell_type": "code",
   "execution_count": null,
   "id": "53bf85b8",
   "metadata": {},
   "outputs": [],
   "source": []
  }
 ],
 "metadata": {
  "kernelspec": {
   "display_name": "Python 3",
   "language": "python",
   "name": "python3"
  },
  "language_info": {
   "codemirror_mode": {
    "name": "ipython",
    "version": 3
   },
   "file_extension": ".py",
   "mimetype": "text/x-python",
   "name": "python",
   "nbconvert_exporter": "python",
   "pygments_lexer": "ipython3",
   "version": "3.8.8"
  }
 },
 "nbformat": 4,
 "nbformat_minor": 5
}
